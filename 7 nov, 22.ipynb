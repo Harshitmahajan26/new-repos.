{
 "cells": [
  {
   "cell_type": "code",
   "execution_count": 1,
   "id": "aa9b16a9",
   "metadata": {},
   "outputs": [
    {
     "data": {
      "text/plain": [
       "[2, 3, 'ram']"
      ]
     },
     "execution_count": 1,
     "metadata": {},
     "output_type": "execute_result"
    }
   ],
   "source": [
    "li = []\n",
    "li = [2,3,'ram']\n",
    "li"
   ]
  },
  {
   "cell_type": "code",
   "execution_count": 5,
   "id": "8432cc17",
   "metadata": {},
   "outputs": [
    {
     "name": "stdout",
     "output_type": "stream",
     "text": [
      "56\n",
      "1\n",
      "ram\n"
     ]
    }
   ],
   "source": [
    "li = [1,56,'ram',4.6]\n",
    "print(li[1])\n",
    "print(li[0])\n",
    "print(li[2])"
   ]
  },
  {
   "cell_type": "code",
   "execution_count": null,
   "id": "bb5d0a9f",
   "metadata": {},
   "outputs": [],
   "source": [
    "li = [2,3,5]\n",
    "li.append"
   ]
  }
 ],
 "metadata": {
  "kernelspec": {
   "display_name": "Python 3 (ipykernel)",
   "language": "python",
   "name": "python3"
  },
  "language_info": {
   "codemirror_mode": {
    "name": "ipython",
    "version": 3
   },
   "file_extension": ".py",
   "mimetype": "text/x-python",
   "name": "python",
   "nbconvert_exporter": "python",
   "pygments_lexer": "ipython3",
   "version": "3.9.12"
  }
 },
 "nbformat": 4,
 "nbformat_minor": 5
}
